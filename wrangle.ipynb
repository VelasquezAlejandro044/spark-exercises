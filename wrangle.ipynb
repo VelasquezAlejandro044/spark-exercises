{
 "cells": [
  {
   "cell_type": "markdown",
   "id": "97c622da",
   "metadata": {},
   "source": [
    "***This exercises uses the `case.csv`, `dept.csv`, and `source.csv` files from the san antonio 311 call dataset.***\n",
    "\n",
    "## 1\n",
    "Read the case, department, and source data into their own spark dataframes.\n",
    "\n",
    "## 2\n",
    "Let's see how writing to the local disk works in spark:\n",
    "\n",
    "- Write the code necessary to store the source data in both csv and json format, store these as sources_csv and sources_json\n",
    "- Inspect your folder structure. What do you notice?\n",
    "\n",
    "## 3\n",
    "Inspect the data in your dataframes. Are the data types appropriate? Write the code necessary to cast the values to the appropriate types."
   ]
  },
  {
   "cell_type": "code",
   "execution_count": 1,
   "id": "77803450",
   "metadata": {},
   "outputs": [],
   "source": [
    "# imports\n",
    "from pyspark.sql import SparkSession\n",
    "from pyspark.sql.functions import *\n",
    "from pyspark.sql.types import StructType, StructField, StringType\n",
    "\n",
    "\n",
    "# creating a spark\n",
    "spark = SparkSession.builder.getOrCreate()"
   ]
  },
  {
   "cell_type": "markdown",
   "id": "aa72f7ea",
   "metadata": {},
   "source": [
    "# 1\n",
    "Read the case, department, and source data into their own spark dataframes."
   ]
  },
  {
   "cell_type": "code",
   "execution_count": 2,
   "id": "dcd65a9c",
   "metadata": {},
   "outputs": [],
   "source": [
    "# read the case.csv\n",
    "case_df = spark.read.csv(\"case.csv\", header=True, inferSchema=True)"
   ]
  },
  {
   "cell_type": "code",
   "execution_count": 3,
   "id": "d4158628",
   "metadata": {},
   "outputs": [
    {
     "name": "stdout",
     "output_type": "stream",
     "text": [
      "+----------+----------------+----------------+------------+---------+-------------------+-----------+----------------+--------------------+-----------+-----------+---------+--------------------+----------------+\n",
      "|   case_id|case_opened_date|case_closed_date|SLA_due_date|case_late|      num_days_late|case_closed|   dept_division|service_request_type|   SLA_days|case_status|source_id|     request_address|council_district|\n",
      "+----------+----------------+----------------+------------+---------+-------------------+-----------+----------------+--------------------+-----------+-----------+---------+--------------------+----------------+\n",
      "|1014127332|     1/1/18 0:42|    1/1/18 12:29|9/26/20 0:42|       NO| -998.5087616000001|        YES|Field Operations|        Stray Animal|      999.0|     Closed| svcCRMLS|2315  EL PASO ST,...|               5|\n",
      "|1014127333|     1/1/18 0:46|     1/3/18 8:11| 1/5/18 8:30|       NO|-2.0126041669999997|        YES|     Storm Water|Removal Of Obstru...|4.322222222|     Closed| svcCRMSS|2215  GOLIAD RD, ...|               3|\n",
      "|1014127334|     1/1/18 0:48|     1/2/18 7:57| 1/5/18 8:30|       NO|       -3.022337963|        YES|     Storm Water|Removal Of Obstru...|4.320729167|     Closed| svcCRMSS|102  PALFREY ST W...|               3|\n",
      "|1014127335|     1/1/18 1:29|     1/2/18 8:13|1/17/18 8:30|       NO|       -15.01148148|        YES|Code Enforcement|Front Or Side Yar...|16.29188657|     Closed| svcCRMSS|114  LA GARDE ST,...|               3|\n",
      "|1014127336|     1/1/18 1:34|    1/1/18 13:29| 1/1/18 4:34|      YES|0.37216435200000003|        YES|Field Operations|Animal Cruelty(Cr...|      0.125|     Closed| svcCRMSS|734  CLEARVIEW DR...|               7|\n",
      "+----------+----------------+----------------+------------+---------+-------------------+-----------+----------------+--------------------+-----------+-----------+---------+--------------------+----------------+\n",
      "only showing top 5 rows\n",
      "\n"
     ]
    }
   ],
   "source": [
    "# look at the case_df\n",
    "case_df.show(5)"
   ]
  },
  {
   "cell_type": "code",
   "execution_count": 4,
   "id": "71b226ef",
   "metadata": {},
   "outputs": [],
   "source": [
    "# read the source.csv\n",
    "source_df = spark.read.csv(\"source.csv\", sep=\",\", header=True, inferSchema=True)"
   ]
  },
  {
   "cell_type": "code",
   "execution_count": 5,
   "id": "1de6bc1e",
   "metadata": {},
   "outputs": [
    {
     "name": "stdout",
     "output_type": "stream",
     "text": [
      "+---------+----------------+\n",
      "|source_id| source_username|\n",
      "+---------+----------------+\n",
      "|   100137|Merlene Blodgett|\n",
      "|   103582|     Carmen Cura|\n",
      "|   106463| Richard Sanchez|\n",
      "|   119403|  Betty De Hoyos|\n",
      "|   119555|  Socorro Quiara|\n",
      "+---------+----------------+\n",
      "only showing top 5 rows\n",
      "\n"
     ]
    }
   ],
   "source": [
    "# look at the source_df\n",
    "source_df.show(5)"
   ]
  },
  {
   "cell_type": "code",
   "execution_count": 6,
   "id": "1cb49e99",
   "metadata": {},
   "outputs": [],
   "source": [
    "# reading the dept.csv\n",
    "dept_df = spark.read.csv(\"dept.csv\", sep=\",\", header=True, inferSchema=True)\n"
   ]
  },
  {
   "cell_type": "code",
   "execution_count": 7,
   "id": "db7dabc5",
   "metadata": {},
   "outputs": [
    {
     "name": "stdout",
     "output_type": "stream",
     "text": [
      "+--------------------+--------------------+----------------------+-------------------+\n",
      "|       dept_division|           dept_name|standardized_dept_name|dept_subject_to_SLA|\n",
      "+--------------------+--------------------+----------------------+-------------------+\n",
      "|     311 Call Center|    Customer Service|      Customer Service|                YES|\n",
      "|               Brush|Solid Waste Manag...|           Solid Waste|                YES|\n",
      "|     Clean and Green|Parks and Recreation|    Parks & Recreation|                YES|\n",
      "|Clean and Green N...|Parks and Recreation|    Parks & Recreation|                YES|\n",
      "|    Code Enforcement|Code Enforcement ...|  DSD/Code Enforcement|                YES|\n",
      "+--------------------+--------------------+----------------------+-------------------+\n",
      "only showing top 5 rows\n",
      "\n"
     ]
    }
   ],
   "source": [
    "# look at the dept_df\n",
    "dept_df.show(5)"
   ]
  },
  {
   "cell_type": "markdown",
   "id": "96731d96",
   "metadata": {},
   "source": [
    "# 2\n",
    "Let's see how writing to the local disk works in spark:\n",
    "\n",
    "- Write the code necessary to store the source data in both csv and json format, store these as sources_csv and sources_json\n",
    "?"
   ]
  },
  {
   "cell_type": "code",
   "execution_count": 8,
   "id": "5da4f113",
   "metadata": {},
   "outputs": [],
   "source": [
    "schema = StructType(\n",
    "    [\n",
    "        StructField(\"source_id\", StringType()),\n",
    "        StructField(\"source_username\", StringType()),\n",
    "    ]\n",
    ")\n",
    "# Read csv, but now we specify the schema:\n",
    "source_df = spark.read.csv(\"source.csv\", header=True, schema=schema)"
   ]
  },
  {
   "cell_type": "code",
   "execution_count": 9,
   "id": "cd35470a",
   "metadata": {},
   "outputs": [],
   "source": [
    "# write data to a destination using .write property to jason \n",
    "\n",
    "source_df.write.json('source_json', mode= 'overwrite')\n",
    "dept_df.write.json('dept_json', mode = 'overwrite')\n",
    "case_df.write.json('case_json', mode = 'overwrite')"
   ]
  },
  {
   "cell_type": "markdown",
   "id": "0106fe53",
   "metadata": {},
   "source": [
    "## 2b\n",
    "Inspect your folder structure. What do you notice?\n",
    "\n",
    "- There is a folder with:\n",
    "    - A text file that success \n",
    "    - A jason file with all info"
   ]
  },
  {
   "cell_type": "markdown",
   "id": "4596ae4d",
   "metadata": {},
   "source": [
    "## 3\n",
    "Inspect the data in your dataframes. Are the data types appropriate? Write the code necessary to cast the values to the appropriate types."
   ]
  },
  {
   "cell_type": "code",
   "execution_count": 10,
   "id": "b2ac873a",
   "metadata": {},
   "outputs": [
    {
     "name": "stdout",
     "output_type": "stream",
     "text": [
      "root\n",
      " |-- source_id: string (nullable = true)\n",
      " |-- source_username: string (nullable = true)\n",
      "\n"
     ]
    }
   ],
   "source": [
    "# check source data tyeps\n",
    "source_df.printSchema()\n",
    "# sourece data types = ok"
   ]
  },
  {
   "cell_type": "code",
   "execution_count": 11,
   "id": "c2cd615f",
   "metadata": {},
   "outputs": [
    {
     "name": "stdout",
     "output_type": "stream",
     "text": [
      "-RECORD 0------------------------------------\n",
      " case_id              | 1014127332           \n",
      " case_opened_date     | 1/1/18 0:42          \n",
      " case_closed_date     | 1/1/18 12:29         \n",
      " SLA_due_date         | 9/26/20 0:42         \n",
      " case_late            | NO                   \n",
      " num_days_late        | -998.5087616000001   \n",
      " case_closed          | YES                  \n",
      " dept_division        | Field Operations     \n",
      " service_request_type | Stray Animal         \n",
      " SLA_days             | 999.0                \n",
      " case_status          | Closed               \n",
      " source_id            | svcCRMLS             \n",
      " request_address      | 2315  EL PASO ST,... \n",
      " council_district     | 5                    \n",
      "-RECORD 1------------------------------------\n",
      " case_id              | 1014127333           \n",
      " case_opened_date     | 1/1/18 0:46          \n",
      " case_closed_date     | 1/3/18 8:11          \n",
      " SLA_due_date         | 1/5/18 8:30          \n",
      " case_late            | NO                   \n",
      " num_days_late        | -2.0126041669999997  \n",
      " case_closed          | YES                  \n",
      " dept_division        | Storm Water          \n",
      " service_request_type | Removal Of Obstru... \n",
      " SLA_days             | 4.322222222          \n",
      " case_status          | Closed               \n",
      " source_id            | svcCRMSS             \n",
      " request_address      | 2215  GOLIAD RD, ... \n",
      " council_district     | 3                    \n",
      "only showing top 2 rows\n",
      "\n"
     ]
    }
   ],
   "source": [
    "case_df.show(2, vertical=True)"
   ]
  },
  {
   "cell_type": "code",
   "execution_count": 12,
   "id": "b2682f7b",
   "metadata": {},
   "outputs": [
    {
     "name": "stdout",
     "output_type": "stream",
     "text": [
      "root\n",
      " |-- case_id: integer (nullable = true)\n",
      " |-- case_opened_date: string (nullable = true)\n",
      " |-- case_closed_date: string (nullable = true)\n",
      " |-- SLA_due_date: string (nullable = true)\n",
      " |-- case_late: string (nullable = true)\n",
      " |-- num_days_late: double (nullable = true)\n",
      " |-- case_closed: string (nullable = true)\n",
      " |-- dept_division: string (nullable = true)\n",
      " |-- service_request_type: string (nullable = true)\n",
      " |-- SLA_days: double (nullable = true)\n",
      " |-- case_status: string (nullable = true)\n",
      " |-- source_id: string (nullable = true)\n",
      " |-- request_address: string (nullable = true)\n",
      " |-- council_district: integer (nullable = true)\n",
      "\n"
     ]
    }
   ],
   "source": [
    "case_df.printSchema()"
   ]
  },
  {
   "cell_type": "markdown",
   "id": "4f558ef3",
   "metadata": {},
   "source": [
    "## Takeaway \n",
    "**case_df**\n",
    "- change date to date time \n",
    "- cahnge case_late, case_close\n",
    "- change num days late to float\n",
    "- change council_district to string"
   ]
  },
  {
   "cell_type": "code",
   "execution_count": 13,
   "id": "cade39c3",
   "metadata": {},
   "outputs": [],
   "source": [
    "# rename this column to match with the other date-type columns\n",
    "case_df = case_df.withColumnRenamed(\"SLA_due_date\", \"case_due_date\")"
   ]
  },
  {
   "cell_type": "code",
   "execution_count": 14,
   "id": "d6a2b1c3",
   "metadata": {},
   "outputs": [],
   "source": [
    "# Two columns, case_closed and case_late store yes/no values. let's turn them into booleans:\n",
    "case_df = case_df.withColumn(\"case_closed\", expr('case_closed == \"YES\"')).withColumn(\n",
    "    \"case_late\", expr('case_late == \"YES\"'))\n"
   ]
  },
  {
   "cell_type": "code",
   "execution_count": 15,
   "id": "92f0bf27",
   "metadata": {},
   "outputs": [
    {
     "name": "stdout",
     "output_type": "stream",
     "text": [
      "+-----------+---------+------+\n",
      "|case_closed|case_late| count|\n",
      "+-----------+---------+------+\n",
      "|       true|    false|735616|\n",
      "|       true|     true| 87978|\n",
      "|      false|    false| 11585|\n",
      "|      false|     true|  6525|\n",
      "+-----------+---------+------+\n",
      "\n"
     ]
    }
   ],
   "source": [
    "# demonstrating we only have yes/no in each field\n",
    "case_df.groupBy(\"case_closed\", \"case_late\").count().show()\n"
   ]
  },
  {
   "cell_type": "code",
   "execution_count": 16,
   "id": "51baa39c",
   "metadata": {},
   "outputs": [],
   "source": [
    "# change council_district dtype to string \n",
    "case_df = case_df.withColumn('council_district', col('council_district').cast('string'))\n"
   ]
  },
  {
   "cell_type": "code",
   "execution_count": 19,
   "id": "a90cd8bb",
   "metadata": {},
   "outputs": [
    {
     "name": "stdout",
     "output_type": "stream",
     "text": [
      "--- Before handling dates\n",
      "+----------------+----------------+-------------+\n",
      "|case_opened_date|case_closed_date|case_due_date|\n",
      "+----------------+----------------+-------------+\n",
      "|     1/1/18 0:42|    1/1/18 12:29| 9/26/20 0:42|\n",
      "|     1/1/18 0:46|     1/3/18 8:11|  1/5/18 8:30|\n",
      "|     1/1/18 0:48|     1/2/18 7:57|  1/5/18 8:30|\n",
      "|     1/1/18 1:29|     1/2/18 8:13| 1/17/18 8:30|\n",
      "|     1/1/18 1:34|    1/1/18 13:29|  1/1/18 4:34|\n",
      "+----------------+----------------+-------------+\n",
      "only showing top 5 rows\n",
      "\n",
      "--- After\n",
      "+-------------------+-------------------+-------------------+\n",
      "|   case_opened_date|   case_closed_date|      case_due_date|\n",
      "+-------------------+-------------------+-------------------+\n",
      "|2018-01-01 00:42:00|2018-01-01 00:42:00|2018-01-01 00:42:00|\n",
      "|2018-01-01 00:46:00|2018-01-01 00:46:00|2018-01-01 00:46:00|\n",
      "|2018-01-01 00:48:00|2018-01-01 00:48:00|2018-01-01 00:48:00|\n",
      "|2018-01-01 01:29:00|2018-01-01 01:29:00|2018-01-01 01:29:00|\n",
      "|2018-01-01 01:34:00|2018-01-01 01:34:00|2018-01-01 01:34:00|\n",
      "+-------------------+-------------------+-------------------+\n",
      "only showing top 5 rows\n",
      "\n"
     ]
    }
   ],
   "source": [
    "print(\"--- Before handling dates\")\n",
    "case_df.select(\"case_opened_date\", \"case_closed_date\", \"case_due_date\").show(5)\n",
    "\n",
    "fmt = \"M/d/yy H:mm\"\n",
    "case_df = (\n",
    "    case_df.withColumn(\"case_opened_date\", to_timestamp(\"case_opened_date\", fmt))\n",
    "    .withColumn(\"case_closed_date\", to_timestamp(\"case_opened_date\", fmt))\n",
    "    .withColumn(\"case_due_date\", to_timestamp(\"case_opened_date\", fmt))\n",
    ")\n",
    "\n",
    "print(\"--- After\")\n",
    "case_df.select(\"case_opened_date\", \"case_closed_date\", \"case_due_date\").show(5)\n"
   ]
  },
  {
   "cell_type": "code",
   "execution_count": 21,
   "id": "4920491a",
   "metadata": {},
   "outputs": [
    {
     "name": "stdout",
     "output_type": "stream",
     "text": [
      "--- Before\n",
      "+--------------------+\n",
      "|     request_address|\n",
      "+--------------------+\n",
      "|2315  EL PASO ST,...|\n",
      "|2215  GOLIAD RD, ...|\n",
      "|102  PALFREY ST W...|\n",
      "|114  LA GARDE ST,...|\n",
      "|734  CLEARVIEW DR...|\n",
      "+--------------------+\n",
      "only showing top 5 rows\n",
      "\n",
      "--- After\n",
      "+--------------------+\n",
      "|     request_address|\n",
      "+--------------------+\n",
      "|2315  el paso st,...|\n",
      "|2215  goliad rd, ...|\n",
      "|102  palfrey st w...|\n",
      "|114  la garde st,...|\n",
      "|734  clearview dr...|\n",
      "+--------------------+\n",
      "only showing top 5 rows\n",
      "\n"
     ]
    }
   ],
   "source": [
    "# normalizing the request address field. Using the trim and lower functions lets us strip any leading or trailing whitespace and convert everything to lowercase.\n",
    "\n",
    "print(\"--- Before\")\n",
    "case_df.select(\"request_address\").show(5)\n",
    "\n",
    "case_df = case_df.withColumn(\"request_address\", trim(lower(case_df.request_address)))\n",
    "\n",
    "print(\"--- After\")\n",
    "case_df.select(\"request_address\").show(5)\n"
   ]
  },
  {
   "cell_type": "code",
   "execution_count": 23,
   "id": "8ab2e56e",
   "metadata": {},
   "outputs": [
    {
     "name": "stdout",
     "output_type": "stream",
     "text": [
      "+-------------------+--------------------+\n",
      "|      num_days_late|      num_weeks_late|\n",
      "+-------------------+--------------------+\n",
      "| -998.5087616000001|        -142.6441088|\n",
      "|-2.0126041669999997|-0.28751488099999994|\n",
      "|       -3.022337963|-0.43176256614285713|\n",
      "|       -15.01148148| -2.1444973542857144|\n",
      "|0.37216435200000003|         0.053166336|\n",
      "+-------------------+--------------------+\n",
      "only showing top 5 rows\n",
      "\n"
     ]
    }
   ],
   "source": [
    "# convert the number of days a case is late to a number of weeks.\n",
    "case_df = case_df.withColumn(\n",
    "    \"num_weeks_late\", expr(\"num_days_late / 7 AS num_weeks_late\")\n",
    ")\n",
    "\n",
    "case_df.select(\"num_days_late\", \"num_weeks_late\").show(5)\n"
   ]
  },
  {
   "cell_type": "code",
   "execution_count": 24,
   "id": "f5b76496",
   "metadata": {},
   "outputs": [
    {
     "name": "stdout",
     "output_type": "stream",
     "text": [
      "+----------------+\n",
      "|council_district|\n",
      "+----------------+\n",
      "|             005|\n",
      "|             003|\n",
      "|             003|\n",
      "|             003|\n",
      "|             007|\n",
      "+----------------+\n",
      "only showing top 5 rows\n",
      "\n"
     ]
    }
   ],
   "source": [
    "# ormat the council district column a little differently. We'll add leading 0s to it\n",
    "case_df = case_df.withColumn(\"council_district\", col(\"council_district\").cast(\"int\"))\n",
    "\n",
    "# '%03d' means at least 3 digits, pad with 0s\n",
    "#\n",
    "# In order to use the format_string function the way we are, we'll need to\n",
    "# convert council_district back to an integer temporarily, but the final output\n",
    "# will be a string.\n",
    "case_df = case_df.withColumn(\n",
    "    \"council_district\",\n",
    "    format_string(\"%03d\", col(\"council_district\").cast(\"int\")),\n",
    ")\n",
    "\n",
    "case_df.select(\"council_district\").show(5)\n"
   ]
  },
  {
   "cell_type": "code",
   "execution_count": 25,
   "id": "af7200df",
   "metadata": {},
   "outputs": [
    {
     "name": "stdout",
     "output_type": "stream",
     "text": [
      "+-------+\n",
      "|zipcode|\n",
      "+-------+\n",
      "|  78207|\n",
      "|  78223|\n",
      "|  78223|\n",
      "|  78223|\n",
      "|  78228|\n",
      "+-------+\n",
      "only showing top 5 rows\n",
      "\n"
     ]
    }
   ],
   "source": [
    "# create some new features based on our existing data\n",
    "# extract the zipcode from the address\n",
    "case_df = case_df.withColumn(\"zipcode\", regexp_extract(\"request_address\", r\"\\d+$\", 0))\n",
    "\n",
    "case_df.select(\"zipcode\").show(5)\n"
   ]
  },
  {
   "cell_type": "code",
   "execution_count": 27,
   "id": "d7b67d19",
   "metadata": {},
   "outputs": [
    {
     "name": "stdout",
     "output_type": "stream",
     "text": [
      "+-----------+-------------------+-------------------+--------+--------------+-------------+\n",
      "|case_closed|   case_opened_date|   case_closed_date|case_age|days_to_closed|case_lifetime|\n",
      "+-----------+-------------------+-------------------+--------+--------------+-------------+\n",
      "|       true|2018-01-01 00:42:00|2018-01-01 00:42:00|    1505|             0|            0|\n",
      "|       true|2018-01-01 00:46:00|2018-01-01 00:46:00|    1505|             0|            0|\n",
      "|       true|2018-01-01 00:48:00|2018-01-01 00:48:00|    1505|             0|            0|\n",
      "|       true|2018-01-01 01:29:00|2018-01-01 01:29:00|    1505|             0|            0|\n",
      "|       true|2018-01-01 01:34:00|2018-01-01 01:34:00|    1505|             0|            0|\n",
      "+-----------+-------------------+-------------------+--------+--------------+-------------+\n",
      "only showing top 5 rows\n",
      "\n",
      "+-----------+-------------------+-------------------+--------+--------------+-------------+\n",
      "|case_closed|   case_opened_date|   case_closed_date|case_age|days_to_closed|case_lifetime|\n",
      "+-----------+-------------------+-------------------+--------+--------------+-------------+\n",
      "|      false|2018-01-02 09:39:00|2018-01-02 09:39:00|    1504|             0|         1504|\n",
      "|      false|2018-01-02 10:49:00|2018-01-02 10:49:00|    1504|             0|         1504|\n",
      "|      false|2018-01-02 13:45:00|2018-01-02 13:45:00|    1504|             0|         1504|\n",
      "|      false|2018-01-02 14:09:00|2018-01-02 14:09:00|    1504|             0|         1504|\n",
      "|      false|2018-01-02 14:34:00|2018-01-02 14:34:00|    1504|             0|         1504|\n",
      "+-----------+-------------------+-------------------+--------+--------------+-------------+\n",
      "only showing top 5 rows\n",
      "\n"
     ]
    }
   ],
   "source": [
    "case_df = (\n",
    "    case_df.withColumn(\n",
    "        # case_age: How old the case is; the difference in days between when the case was opened and the current day\n",
    "        \"case_age\", datediff(current_timestamp(), \"case_opened_date\")\n",
    "    )\n",
    "    .withColumn(\n",
    "        #days_to_closed: The number of days between when the case was opened and when it was closed\n",
    "        \"days_to_closed\", datediff(\"case_closed_date\", \"case_opened_date\")\n",
    "    )\n",
    "    .withColumn(\n",
    "        #case_lifetime: Number of days between when the case was opened and when it was closed, if the case is still open, the number of days since the case was opened\n",
    "        \"case_lifetime\",\n",
    "        when(expr(\"! case_closed\"), col(\"case_age\")).otherwise(\n",
    "            col(\"days_to_closed\")\n",
    "        ),\n",
    "    )\n",
    ")\n",
    "\n",
    "case_df.select(\n",
    "    \"case_closed\",\n",
    "    \"case_opened_date\",\n",
    "    \"case_closed_date\",\n",
    "    \"case_age\",\n",
    "    \"days_to_closed\",\n",
    "    \"case_lifetime\",\n",
    ").where(expr(\"case_closed\")).show(5)\n",
    "\n",
    "case_df.select(\n",
    "    \"case_closed\",\n",
    "    \"case_opened_date\",\n",
    "    \"case_closed_date\",\n",
    "    \"case_age\",\n",
    "    \"days_to_closed\",\n",
    "    \"case_lifetime\",\n",
    ").where(expr(\"! case_closed\")).show(5)\n"
   ]
  },
  {
   "cell_type": "code",
   "execution_count": 30,
   "id": "7810979d",
   "metadata": {},
   "outputs": [
    {
     "name": "stdout",
     "output_type": "stream",
     "text": [
      "-RECORD 0------------------------------------\n",
      " case_id              | 1014127332           \n",
      " case_opened_date     | 2018-01-01 00:42:00  \n",
      " case_closed_date     | 2018-01-01 00:42:00  \n",
      " case_due_date        | 2018-01-01 00:42:00  \n",
      " case_late            | false                \n",
      " num_days_late        | -998.5087616000001   \n",
      " case_closed          | true                 \n",
      " dept_division        | Field Operations     \n",
      " service_request_type | Stray Animal         \n",
      " SLA_days             | 999.0                \n",
      " case_status          | Closed               \n",
      " source_id            | svcCRMLS             \n",
      " request_address      | 2315  el paso st,... \n",
      " council_district     | 005                  \n",
      " num_weeks_late       | -142.6441088         \n",
      " zipcode              | 78207                \n",
      " case_age             | 1505                 \n",
      " days_to_closed       | 0                    \n",
      " case_lifetime        | 0                    \n",
      "-RECORD 1------------------------------------\n",
      " case_id              | 1014127333           \n",
      " case_opened_date     | 2018-01-01 00:46:00  \n",
      " case_closed_date     | 2018-01-01 00:46:00  \n",
      " case_due_date        | 2018-01-01 00:46:00  \n",
      " case_late            | false                \n",
      " num_days_late        | -2.0126041669999997  \n",
      " case_closed          | true                 \n",
      " dept_division        | Storm Water          \n",
      " service_request_type | Removal Of Obstru... \n",
      " SLA_days             | 4.322222222          \n",
      " case_status          | Closed               \n",
      " source_id            | svcCRMSS             \n",
      " request_address      | 2215  goliad rd, ... \n",
      " council_district     | 003                  \n",
      " num_weeks_late       | -0.28751488099999994 \n",
      " zipcode              | 78223                \n",
      " case_age             | 1505                 \n",
      " days_to_closed       | 0                    \n",
      " case_lifetime        | 0                    \n",
      "only showing top 2 rows\n",
      "\n"
     ]
    }
   ],
   "source": [
    "case_df.show(2, vertical=True)\n"
   ]
  },
  {
   "cell_type": "code",
   "execution_count": 31,
   "id": "fdf7479e",
   "metadata": {},
   "outputs": [
    {
     "name": "stdout",
     "output_type": "stream",
     "text": [
      "-RECORD 0------------------------------------\n",
      " case_id              | 1014127332           \n",
      " case_opened_date     | 2018-01-01 00:42:00  \n",
      " case_closed_date     | 2018-01-01 00:42:00  \n",
      " case_due_date        | 2018-01-01 00:42:00  \n",
      " case_late            | false                \n",
      " num_days_late        | -998.5087616000001   \n",
      " case_closed          | true                 \n",
      " service_request_type | Stray Animal         \n",
      " SLA_days             | 999.0                \n",
      " case_status          | Closed               \n",
      " source_id            | svcCRMLS             \n",
      " request_address      | 2315  el paso st,... \n",
      " council_district     | 005                  \n",
      " num_weeks_late       | -142.6441088         \n",
      " zipcode              | 78207                \n",
      " case_age             | 1505                 \n",
      " days_to_closed       | 0                    \n",
      " case_lifetime        | 0                    \n",
      " department           | Animal Care Services \n",
      " dept_subject_to_SLA  | true                 \n",
      "-RECORD 1------------------------------------\n",
      " case_id              | 1014127333           \n",
      " case_opened_date     | 2018-01-01 00:46:00  \n",
      " case_closed_date     | 2018-01-01 00:46:00  \n",
      " case_due_date        | 2018-01-01 00:46:00  \n",
      " case_late            | false                \n",
      " num_days_late        | -2.0126041669999997  \n",
      " case_closed          | true                 \n",
      " service_request_type | Removal Of Obstru... \n",
      " SLA_days             | 4.322222222          \n",
      " case_status          | Closed               \n",
      " source_id            | svcCRMSS             \n",
      " request_address      | 2215  goliad rd, ... \n",
      " council_district     | 003                  \n",
      " num_weeks_late       | -0.28751488099999994 \n",
      " zipcode              | 78223                \n",
      " case_age             | 1505                 \n",
      " days_to_closed       | 0                    \n",
      " case_lifetime        | 0                    \n",
      " department           | Trans & Cap Impro... \n",
      " dept_subject_to_SLA  | true                 \n",
      "only showing top 2 rows\n",
      "\n"
     ]
    }
   ],
   "source": [
    "# we can join it to our case dataframe using the dept_division column.\n",
    "case_df = (\n",
    "    case_df\n",
    "    # left join on dept_division\n",
    "    .join(dept_df, \"dept_division\", \"left\")\n",
    "    # drop all the columns except for standardized name, as it has much fewer unique values\n",
    "    .drop(dept_df.dept_division)\n",
    "    .drop(dept_df.dept_name)\n",
    "    .drop(case_df.dept_division)\n",
    "    .withColumnRenamed(\"standardized_dept_name\", \"department\")\n",
    "    # convert to a boolean\n",
    "    .withColumn(\"dept_subject_to_SLA\", col(\"dept_subject_to_SLA\") == \"YES\")\n",
    ")\n",
    "\n",
    "case_df.show(2, vertical=True)\n"
   ]
  },
  {
   "cell_type": "markdown",
   "id": "89e857cd",
   "metadata": {},
   "source": [
    "## Train Test Split"
   ]
  },
  {
   "cell_type": "code",
   "execution_count": null,
   "id": "df5e90f8",
   "metadata": {},
   "outputs": [],
   "source": [
    "# train, test = df.randomSplit([0.8, 0.2])\n",
    "# #\n",
    "# train, validate, test = df.randomSplit([0.6, 0.2, 0.2])\n"
   ]
  },
  {
   "cell_type": "markdown",
   "id": "7e5a3a31",
   "metadata": {},
   "source": [
    "----------------------------------------"
   ]
  },
  {
   "cell_type": "markdown",
   "id": "c1ecaf61",
   "metadata": {},
   "source": [
    "### 1\n",
    "How old is the latest (in terms of days past SLA) currently open issue? How long has the oldest (in terms of days since opened) currently opened issue been open?\n",
    "\n",
    "### 2\n",
    "How many Stray Animal cases are there?\n",
    "\n",
    "### 3\n",
    "How many service requests that are assigned to the Field Operations department (dept_division) are not classified as \"Officer Standby\" request type (service_request_type)?\n",
    "\n",
    "### 4\n",
    "Convert the council_district column to a string column.\n",
    "\n",
    "### 5\n",
    "Extract the year from the `case_closed_date` column.\n",
    "\n",
    "### 6\n",
    "Convert num_days_late from days to hours in new columns `num_hours_late`.\n",
    "\n",
    "### 7\n",
    "Join the case data with the source and department data.\n",
    "\n",
    "### 8\n",
    "Are there any cases that do not have a request source?\n",
    "\n",
    "### 9\n",
    "What are the top 10 service request types in terms of number of requests?\n",
    "\n",
    "### 10\n",
    "What are the top 10 service request types in terms of average days late?\n",
    "\n",
    "### 11\n",
    "Does number of days late depend on department?\n",
    "\n",
    "### 12\n",
    "How do number of days late depend on department and request type?"
   ]
  },
  {
   "cell_type": "code",
   "execution_count": 32,
   "id": "8bfc0515",
   "metadata": {},
   "outputs": [],
   "source": [
    "df = case_df"
   ]
  },
  {
   "cell_type": "markdown",
   "id": "4e53a3fd",
   "metadata": {},
   "source": [
    "## 1\n",
    "How old is the latest (in terms of days past SLA) currently open issue? How long has the oldest (in terms of days since opened) currently opened issue been open?"
   ]
  },
  {
   "cell_type": "code",
   "execution_count": 33,
   "id": "8a2316ae",
   "metadata": {},
   "outputs": [
    {
     "name": "stdout",
     "output_type": "stream",
     "text": [
      "+-------------+\n",
      "|days_past_due|\n",
      "+-------------+\n",
      "|         1870|\n",
      "|         1870|\n",
      "|         1869|\n",
      "|         1868|\n",
      "|         1867|\n",
      "+-------------+\n",
      "only showing top 5 rows\n",
      "\n"
     ]
    }
   ],
   "source": [
    "(\n",
    "    df.select(datediff(current_timestamp(), 'case_due_date')\n",
    "    .alias('days_past_due'))\n",
    "    .where(df.case_closed == False)\n",
    "    .sort(col('days_past_due').desc())\n",
    "    .show(5)\n",
    ")"
   ]
  },
  {
   "cell_type": "markdown",
   "id": "3e243b3c",
   "metadata": {},
   "source": [
    "### 2\n",
    "How many Stray Animal cases are there?"
   ]
  },
  {
   "cell_type": "code",
   "execution_count": 34,
   "id": "7820656b",
   "metadata": {},
   "outputs": [
    {
     "name": "stdout",
     "output_type": "stream",
     "text": [
      "+--------------------+-----+\n",
      "|service_request_type|count|\n",
      "+--------------------+-----+\n",
      "|        Stray Animal|26760|\n",
      "+--------------------+-----+\n",
      "\n"
     ]
    }
   ],
   "source": [
    "(\n",
    "    df.groupBy('service_request_type')\n",
    "    .count()\n",
    "    .filter(expr('service_request_type == \"Stray Animal\"'))\n",
    "    .show()\n",
    ")"
   ]
  },
  {
   "cell_type": "markdown",
   "id": "b73ff74e",
   "metadata": {},
   "source": [
    "### 3\n",
    "How many service requests that are assigned to the Field Operations department (dept_division) are not classified as \"Officer Standby\" request type (service_request_type)?"
   ]
  },
  {
   "cell_type": "code",
   "execution_count": 36,
   "id": "4684b9e4",
   "metadata": {},
   "outputs": [
    {
     "name": "stdout",
     "output_type": "stream",
     "text": [
      "-RECORD 0------------------------------------\n",
      " case_id              | 1014127332           \n",
      " case_opened_date     | 2018-01-01 00:42:00  \n",
      " case_closed_date     | 2018-01-01 00:42:00  \n",
      " case_due_date        | 2018-01-01 00:42:00  \n",
      " case_late            | false                \n",
      " num_days_late        | -998.5087616000001   \n",
      " case_closed          | true                 \n",
      " service_request_type | Stray Animal         \n",
      " SLA_days             | 999.0                \n",
      " case_status          | Closed               \n",
      " source_id            | svcCRMLS             \n",
      " request_address      | 2315  el paso st,... \n",
      " council_district     | 005                  \n",
      " num_weeks_late       | -142.6441088         \n",
      " zipcode              | 78207                \n",
      " case_age             | 1505                 \n",
      " days_to_closed       | 0                    \n",
      " case_lifetime        | 0                    \n",
      " department           | Animal Care Services \n",
      " dept_subject_to_SLA  | true                 \n",
      "only showing top 1 row\n",
      "\n"
     ]
    }
   ],
   "source": [
    "case_df.show(1, vertical=True)"
   ]
  },
  {
   "cell_type": "code",
   "execution_count": 40,
   "id": "2da1d805",
   "metadata": {},
   "outputs": [
    {
     "data": {
      "text/plain": [
       "0"
      ]
     },
     "execution_count": 40,
     "metadata": {},
     "output_type": "execute_result"
    }
   ],
   "source": [
    "(\n",
    "    df.filter(df.department == 'Field Operations')\n",
    "    .filter(df.service_request_type != 'Officer Standby')\n",
    "    .count()\n",
    ")"
   ]
  },
  {
   "cell_type": "markdown",
   "id": "94863b23",
   "metadata": {},
   "source": [
    "### 4\n",
    "Convert the council_district column to a string column."
   ]
  },
  {
   "cell_type": "code",
   "execution_count": 41,
   "id": "bdfa0f79",
   "metadata": {},
   "outputs": [
    {
     "name": "stdout",
     "output_type": "stream",
     "text": [
      "root\n",
      " |-- case_id: integer (nullable = true)\n",
      " |-- case_opened_date: timestamp (nullable = true)\n",
      " |-- case_closed_date: timestamp (nullable = true)\n",
      " |-- case_due_date: timestamp (nullable = true)\n",
      " |-- case_late: boolean (nullable = true)\n",
      " |-- num_days_late: double (nullable = true)\n",
      " |-- case_closed: boolean (nullable = true)\n",
      " |-- service_request_type: string (nullable = true)\n",
      " |-- SLA_days: double (nullable = true)\n",
      " |-- case_status: string (nullable = true)\n",
      " |-- source_id: string (nullable = true)\n",
      " |-- request_address: string (nullable = true)\n",
      " |-- council_district: string (nullable = false)\n",
      " |-- num_weeks_late: double (nullable = true)\n",
      " |-- zipcode: string (nullable = true)\n",
      " |-- case_age: integer (nullable = true)\n",
      " |-- days_to_closed: integer (nullable = true)\n",
      " |-- case_lifetime: integer (nullable = true)\n",
      " |-- department: string (nullable = true)\n",
      " |-- dept_subject_to_SLA: boolean (nullable = true)\n",
      "\n"
     ]
    }
   ],
   "source": [
    "case_df.printSchema()"
   ]
  },
  {
   "cell_type": "markdown",
   "id": "c01e95d8",
   "metadata": {},
   "source": [
    "### 5\n",
    "Extract the year from the `case_closed_date` column."
   ]
  },
  {
   "cell_type": "code",
   "execution_count": 44,
   "id": "980e0bad",
   "metadata": {},
   "outputs": [
    {
     "name": "stdout",
     "output_type": "stream",
     "text": [
      "+----------------------+\n",
      "|year(case_closed_date)|\n",
      "+----------------------+\n",
      "|                  2018|\n",
      "|                  2018|\n",
      "|                  2018|\n",
      "|                  2018|\n",
      "|                  2018|\n",
      "+----------------------+\n",
      "only showing top 5 rows\n",
      "\n"
     ]
    }
   ],
   "source": [
    "df.select(year('case_closed_date')).show(5)"
   ]
  },
  {
   "cell_type": "markdown",
   "id": "69197b6e",
   "metadata": {},
   "source": [
    "### 6\n",
    "Convert num_days_late from days to hours in new columns `num_hours_late`."
   ]
  },
  {
   "cell_type": "code",
   "execution_count": 47,
   "id": "dd2f350a",
   "metadata": {},
   "outputs": [
    {
     "name": "stdout",
     "output_type": "stream",
     "text": [
      "+-------------------+-------------------+\n",
      "|      num_days_late|     num_hours_late|\n",
      "+-------------------+-------------------+\n",
      "| -998.5087616000001|     -23964.2102784|\n",
      "|-2.0126041669999997|-48.302500007999996|\n",
      "|       -3.022337963|      -72.536111112|\n",
      "|       -15.01148148|      -360.27555552|\n",
      "|0.37216435200000003|  8.931944448000001|\n",
      "+-------------------+-------------------+\n",
      "only showing top 5 rows\n",
      "\n"
     ]
    }
   ],
   "source": [
    "(\n",
    "    df.withColumn('num_hours_late', df.num_days_late * 24)\n",
    "    .select('num_days_late', 'num_hours_late')\n",
    "    .show(5)\n",
    ")\n"
   ]
  },
  {
   "cell_type": "markdown",
   "id": "44ae0491",
   "metadata": {},
   "source": [
    "### 7\n",
    "Join the case data with the source and department data."
   ]
  },
  {
   "cell_type": "code",
   "execution_count": 56,
   "id": "70691693",
   "metadata": {},
   "outputs": [],
   "source": [
    "# join source table\n",
    "df = df.join(source_df, on = df.source_id== source_df.source_id).drop(source_df.source_id)\n"
   ]
  },
  {
   "cell_type": "code",
   "execution_count": 58,
   "id": "1c99cb9d",
   "metadata": {},
   "outputs": [
    {
     "name": "stdout",
     "output_type": "stream",
     "text": [
      "-RECORD 0----------------------------------------------------\n",
      " case_id              | 1014127332                           \n",
      " case_opened_date     | 2018-01-01 00:42:00                  \n",
      " case_closed_date     | 2018-01-01 00:42:00                  \n",
      " case_due_date        | 2018-01-01 00:42:00                  \n",
      " case_late            | false                                \n",
      " num_days_late        | -998.5087616000001                   \n",
      " case_closed          | true                                 \n",
      " service_request_type | Stray Animal                         \n",
      " SLA_days             | 999.0                                \n",
      " case_status          | Closed                               \n",
      " source_id            | svcCRMLS                             \n",
      " request_address      | 2315  el paso st, san antonio, 78207 \n",
      " council_district     | 005                                  \n",
      " num_weeks_late       | -142.6441088                         \n",
      " zipcode              | 78207                                \n",
      " case_age             | 1506                                 \n",
      " days_to_closed       | 0                                    \n",
      " case_lifetime        | 0                                    \n",
      " department           | Animal Care Services                 \n",
      " dept_subject_to_SLA  | true                                 \n",
      " source_username      | svcCRMLS                             \n",
      "-RECORD 1----------------------------------------------------\n",
      " case_id              | 1014127333                           \n",
      " case_opened_date     | 2018-01-01 00:46:00                  \n",
      " case_closed_date     | 2018-01-01 00:46:00                  \n",
      " case_due_date        | 2018-01-01 00:46:00                  \n",
      " case_late            | false                                \n",
      " num_days_late        | -2.0126041669999997                  \n",
      " case_closed          | true                                 \n",
      " service_request_type | Removal Of Obstruction               \n",
      " SLA_days             | 4.322222222                          \n",
      " case_status          | Closed                               \n",
      " source_id            | svcCRMSS                             \n",
      " request_address      | 2215  goliad rd, san antonio, 78223  \n",
      " council_district     | 003                                  \n",
      " num_weeks_late       | -0.28751488099999994                 \n",
      " zipcode              | 78223                                \n",
      " case_age             | 1506                                 \n",
      " days_to_closed       | 0                                    \n",
      " case_lifetime        | 0                                    \n",
      " department           | Trans & Cap Improvements             \n",
      " dept_subject_to_SLA  | true                                 \n",
      " source_username      | svcCRMSS                             \n",
      "only showing top 2 rows\n",
      "\n"
     ]
    }
   ],
   "source": [
    "df.show(2, truncate = False, vertical = True)\n"
   ]
  },
  {
   "cell_type": "markdown",
   "id": "6c961405",
   "metadata": {},
   "source": [
    "### 8\n",
    "Are there any cases that do not have a request source?"
   ]
  },
  {
   "cell_type": "code",
   "execution_count": 63,
   "id": "379d1b64",
   "metadata": {},
   "outputs": [
    {
     "name": "stdout",
     "output_type": "stream",
     "text": [
      "+------------+\n",
      "|sum(is_null)|\n",
      "+------------+\n",
      "|           0|\n",
      "+------------+\n",
      "\n"
     ]
    }
   ],
   "source": [
    "(\n",
    "    df.select(df.source_id.isNull().cast('int').alias('is_null'))\n",
    "    .agg(sum('is_null'))\n",
    "    .show()\n",
    ")"
   ]
  },
  {
   "cell_type": "code",
   "execution_count": 64,
   "id": "ea7a5035",
   "metadata": {},
   "outputs": [
    {
     "name": "stdout",
     "output_type": "stream",
     "text": [
      "(0 rows)\n",
      "\n"
     ]
    }
   ],
   "source": [
    "df.filter(col('source_id').isNull()).show(vertical=True)"
   ]
  },
  {
   "cell_type": "markdown",
   "id": "d1593a43",
   "metadata": {},
   "source": [
    "### 9\n",
    "What are the top 10 service request types in terms of number of requests?\n"
   ]
  },
  {
   "cell_type": "code",
   "execution_count": 66,
   "id": "8c9b081f",
   "metadata": {},
   "outputs": [
    {
     "name": "stdout",
     "output_type": "stream",
     "text": [
      "+--------------------------------+-----+\n",
      "|service_request_type            |count|\n",
      "+--------------------------------+-----+\n",
      "|No Pickup                       |89210|\n",
      "|Overgrown Yard/Trash            |66403|\n",
      "|Bandit Signs                    |32968|\n",
      "|Damaged Cart                    |31163|\n",
      "|Front Or Side Yard Parking      |28920|\n",
      "|Stray Animal                    |27361|\n",
      "|Aggressive Animal(Non-Critical) |25492|\n",
      "|Cart Exchange Request           |22608|\n",
      "|Junk Vehicle On Private Property|21649|\n",
      "|Pot Hole Repair                 |20827|\n",
      "+--------------------------------+-----+\n",
      "only showing top 10 rows\n",
      "\n"
     ]
    }
   ],
   "source": [
    "(\n",
    "    df.groupby('service_request_type')\n",
    "    .count()\n",
    "    .sort(col('count').desc())\n",
    "    .show(10, truncate=False)\n",
    ")"
   ]
  },
  {
   "cell_type": "markdown",
   "id": "a1e29836",
   "metadata": {},
   "source": [
    "### 10\n",
    "What are the top 10 service request types in terms of average days late?\n"
   ]
  },
  {
   "cell_type": "code",
   "execution_count": 67,
   "id": "d160517b",
   "metadata": {},
   "outputs": [
    {
     "name": "stdout",
     "output_type": "stream",
     "text": [
      "+--------------------------------------+------------------+\n",
      "|service_request_type                  |avg_days_late     |\n",
      "+--------------------------------------+------------------+\n",
      "|Zoning: Recycle Yard                  |210.89201994318182|\n",
      "|Zoning: Junk Yards                    |200.20517608494276|\n",
      "|Structure/Housing Maintenance         |190.20707698509807|\n",
      "|Donation Container Enforcement        |171.09115313942615|\n",
      "|Storage of Used Mattress              |163.96812829714287|\n",
      "|Labeling for Used Mattress            |162.43032902285717|\n",
      "|Record Keeping of Used Mattresses     |153.99724039428568|\n",
      "|Signage Requied for Sale of Used Mattr|151.63868055333333|\n",
      "|Traffic Signal Graffiti               |137.64583330000002|\n",
      "|License Requied Used Mattress Sales   |128.79828704142858|\n",
      "+--------------------------------------+------------------+\n",
      "only showing top 10 rows\n",
      "\n"
     ]
    }
   ],
   "source": [
    "# group by service type request, \n",
    "df.filter(col('case_late') == 'true')\\\n",
    ".groupBy('service_request_type').agg(mean('num_days_late').alias('avg_days_late')).sort(desc('avg_days_late')).show(10, truncate=False)"
   ]
  },
  {
   "cell_type": "markdown",
   "id": "c659fdb9",
   "metadata": {},
   "source": [
    "### 11\n",
    "Does number of days late depend on department?"
   ]
  },
  {
   "cell_type": "code",
   "execution_count": 68,
   "id": "adace32b",
   "metadata": {},
   "outputs": [
    {
     "name": "stdout",
     "output_type": "stream",
     "text": [
      "+------------------------+-------------+\n",
      "|department              |avg_days_late|\n",
      "+------------------------+-------------+\n",
      "|Customer Service        |88.18        |\n",
      "|DSD/Code Enforcement    |49.51        |\n",
      "|Animal Care Services    |23.45        |\n",
      "|Parks & Recreation      |22.43        |\n",
      "|Trans & Cap Improvements|10.66        |\n",
      "|Solid Waste             |7.15         |\n",
      "|Metro Health            |6.49         |\n",
      "+------------------------+-------------+\n",
      "\n"
     ]
    }
   ],
   "source": [
    "df.filter(col('case_late') == 'true')\\\n",
    ".groupby('department').agg(round(mean('num_days_late'),2).alias('avg_days_late'))\\\n",
    ".sort(desc('avg_days_late')).show(truncate = False)"
   ]
  },
  {
   "cell_type": "markdown",
   "id": "41408712",
   "metadata": {},
   "source": [
    "### 12\n",
    "How do number of days late depend on department and request type?"
   ]
  },
  {
   "cell_type": "code",
   "execution_count": 72,
   "id": "b64f9783",
   "metadata": {},
   "outputs": [
    {
     "name": "stdout",
     "output_type": "stream",
     "text": [
      "root\n",
      " |-- case_id: integer (nullable = true)\n",
      " |-- case_opened_date: timestamp (nullable = true)\n",
      " |-- case_closed_date: timestamp (nullable = true)\n",
      " |-- case_due_date: timestamp (nullable = true)\n",
      " |-- case_late: boolean (nullable = true)\n",
      " |-- num_days_late: double (nullable = true)\n",
      " |-- case_closed: boolean (nullable = true)\n",
      " |-- service_request_type: string (nullable = true)\n",
      " |-- SLA_days: double (nullable = true)\n",
      " |-- case_status: string (nullable = true)\n",
      " |-- source_id: string (nullable = true)\n",
      " |-- request_address: string (nullable = true)\n",
      " |-- council_district: string (nullable = false)\n",
      " |-- num_weeks_late: double (nullable = true)\n",
      " |-- zipcode: string (nullable = true)\n",
      " |-- case_age: integer (nullable = true)\n",
      " |-- days_to_closed: integer (nullable = true)\n",
      " |-- case_lifetime: integer (nullable = true)\n",
      " |-- department: string (nullable = true)\n",
      " |-- dept_subject_to_SLA: boolean (nullable = true)\n",
      " |-- source_username: string (nullable = true)\n",
      "\n"
     ]
    }
   ],
   "source": [
    "df.printSchema()"
   ]
  },
  {
   "cell_type": "code",
   "execution_count": 73,
   "id": "c3beeed9",
   "metadata": {},
   "outputs": [
    {
     "name": "stdout",
     "output_type": "stream",
     "text": [
      "+------------------------+----------------------------------------+---------+-------+\n",
      "|department              |service_request_type                    |days_late|n_cases|\n",
      "+------------------------+----------------------------------------+---------+-------+\n",
      "|DSD/Code Enforcement    |Zoning: Junk Yards                      |209.4    |174    |\n",
      "|DSD/Code Enforcement    |Labeling for Used Mattress              |162.4    |7      |\n",
      "|DSD/Code Enforcement    |Record Keeping of Used Mattresses       |154.0    |7      |\n",
      "|DSD/Code Enforcement    |Signage Requied for Sale of Used Mattr  |151.6    |12     |\n",
      "|DSD/Code Enforcement    |Storage of Used Mattress                |142.1    |8      |\n",
      "|DSD/Code Enforcement    |Donation Container Enforcement          |141.3    |114    |\n",
      "|DSD/Code Enforcement    |Zoning: Recycle Yard                    |139.0    |141    |\n",
      "|DSD/Code Enforcement    |License Requied Used Mattress Sales     |128.8    |7      |\n",
      "|DSD/Code Enforcement    |Vendors                                 |65.3     |184    |\n",
      "|Customer Service        |Complaint                               |59.9     |1250   |\n",
      "|Solid Waste             |Contracted Service Issues               |56.7     |12     |\n",
      "|DSD/Code Enforcement    |Curbstoning                             |55.1     |200    |\n",
      "|DSD/Code Enforcement    |No Address Posted                       |51.4     |1011   |\n",
      "|DSD/Code Enforcement    |Street Light New Development            |30.9     |27     |\n",
      "|DSD/Code Enforcement    |Used Mattress Inspection                |30.2     |49     |\n",
      "|Solid Waste             |Service Information                     |26.4     |152    |\n",
      "|Animal Care Services    |Animal Permits Request                  |22.1     |3001   |\n",
      "|Solid Waste             |Solid Waste Fees and Charges            |21.5     |4702   |\n",
      "|Animal Care Services    |Aggressive Animal(Critical)             |16.7     |5230   |\n",
      "|DSD/Code Enforcement    |Emergency: Main and Accessory Structures|16.4     |26     |\n",
      "|Parks & Recreation      |Sportfield Lighting                     |15.5     |533    |\n",
      "|DSD/Code Enforcement    |Historical Building (No Permits)        |15.0     |9      |\n",
      "|DSD/Code Enforcement    |Street Light Existing Res Sub Div       |14.9     |633    |\n",
      "|Solid Waste             |Organics Info / Literature Request      |14.7     |1162   |\n",
      "|Parks & Recreation      |Park Building Maint Invest              |13.9     |43     |\n",
      "|Trans & Cap Improvements|Speed Hump Repairs - Emergency          |10.3     |531    |\n",
      "|Solid Waste             |Cart Placement                          |10.3     |1192   |\n",
      "|Solid Waste             |Disability Service Requested            |9.1      |826    |\n",
      "|DSD/Code Enforcement    |Emergency: Accessory Structure Only     |8.8      |10     |\n",
      "|Parks & Recreation      |Electrical                              |8.2      |1145   |\n",
      "|Animal Care Services    |Animal Neglect                          |7.3      |13736  |\n",
      "|Trans & Cap Improvements|Status: On-Going CIMS Projects          |6.3      |356    |\n",
      "|Parks & Recreation      |Tree Removal                            |6.2      |289    |\n",
      "|DSD/Code Enforcement    |Emergency: Main Structure Only          |5.3      |43     |\n",
      "|Solid Waste             |Alley Problems                          |4.5      |58     |\n",
      "|Parks & Recreation      |Painting                                |4.4      |280    |\n",
      "|Parks & Recreation      |Tree Trimming/Maintenance               |4.3      |529    |\n",
      "|Parks & Recreation      |Masonry                                 |4.3      |441    |\n",
      "|Solid Waste             |Request for Commercial Service          |4.1      |332    |\n",
      "|Parks & Recreation      |Fence/Gate Repair                       |4.1      |119    |\n",
      "+------------------------+----------------------------------------+---------+-------+\n",
      "only showing top 40 rows\n",
      "\n"
     ]
    }
   ],
   "source": [
    "(\n",
    "    df.filter(\"case_closed\")\n",
    "#     .filter(\"case_late\")\n",
    "    .groupby(\"department\", \"service_request_type\")\n",
    "    .agg(avg(\"num_days_late\").alias(\"days_late\"), count(\"*\").alias(\"n_cases\"))\n",
    "    .withColumn(\"days_late\", round(col(\"days_late\"), 1))\n",
    "    .where(col('days_late') > 0)\n",
    "    .sort(desc(\"days_late\"))\n",
    "    .show(40, truncate=False)\n",
    ")"
   ]
  },
  {
   "cell_type": "code",
   "execution_count": null,
   "id": "ed5b1f21",
   "metadata": {},
   "outputs": [],
   "source": []
  }
 ],
 "metadata": {
  "kernelspec": {
   "display_name": "Python 3",
   "language": "python",
   "name": "python3"
  },
  "language_info": {
   "codemirror_mode": {
    "name": "ipython",
    "version": 3
   },
   "file_extension": ".py",
   "mimetype": "text/x-python",
   "name": "python",
   "nbconvert_exporter": "python",
   "pygments_lexer": "ipython3",
   "version": "3.8.8"
  }
 },
 "nbformat": 4,
 "nbformat_minor": 5
}
